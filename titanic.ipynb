{
 "cells": [
  {
   "cell_type": "markdown",
   "id": "f35cd125-a243-4343-b7fd-8f69bfb748a8",
   "metadata": {},
   "source": [
    "# \"I'm The King of the World! Or Almost...\". Predicting Titanic Passengers' Fate through Machine Learning"
   ]
  },
  {
   "cell_type": "markdown",
   "id": "75fd61c8-cdee-4bbe-bec9-96100b2bd363",
   "metadata": {},
   "source": [
    "# Introduction"
   ]
  },
  {
   "cell_type": "markdown",
   "id": "b48dfb47-b907-462f-9dcb-a8aaed05b621",
   "metadata": {},
   "source": [
    "\"What sort of people were more likely to survive?\""
   ]
  },
  {
   "cell_type": "code",
   "execution_count": 1,
   "id": "93c96519-8231-4ec2-9d65-1661ac131102",
   "metadata": {},
   "outputs": [],
   "source": [
    "import matplotlib.pyplot as plt\n",
    "import numpy as np\n",
    "import pandas as pd\n",
    "import re\n",
    "import seaborn as sns\n",
    "import warnings\n",
    "\n",
    "warnings.filterwarnings(\"ignore\")\n",
    "%matplotlib inline"
   ]
  },
  {
   "cell_type": "markdown",
   "id": "54c3ba3c-a10e-46a7-bfbc-786f6a450ada",
   "metadata": {},
   "source": [
    "# Loading the Data"
   ]
  },
  {
   "cell_type": "code",
   "execution_count": 2,
   "id": "e29914ce-78b5-433e-8b87-d72ef3c141ff",
   "metadata": {},
   "outputs": [
    {
     "data": {
      "text/html": [
       "<div>\n",
       "<style scoped>\n",
       "    .dataframe tbody tr th:only-of-type {\n",
       "        vertical-align: middle;\n",
       "    }\n",
       "\n",
       "    .dataframe tbody tr th {\n",
       "        vertical-align: top;\n",
       "    }\n",
       "\n",
       "    .dataframe thead th {\n",
       "        text-align: right;\n",
       "    }\n",
       "</style>\n",
       "<table border=\"1\" class=\"dataframe\">\n",
       "  <thead>\n",
       "    <tr style=\"text-align: right;\">\n",
       "      <th></th>\n",
       "      <th>PassengerId</th>\n",
       "      <th>Survived</th>\n",
       "      <th>Pclass</th>\n",
       "      <th>Name</th>\n",
       "      <th>Sex</th>\n",
       "      <th>Age</th>\n",
       "      <th>SibSp</th>\n",
       "      <th>Parch</th>\n",
       "      <th>Ticket</th>\n",
       "      <th>Fare</th>\n",
       "      <th>Cabin</th>\n",
       "      <th>Embarked</th>\n",
       "    </tr>\n",
       "  </thead>\n",
       "  <tbody>\n",
       "    <tr>\n",
       "      <th>0</th>\n",
       "      <td>1</td>\n",
       "      <td>0</td>\n",
       "      <td>3</td>\n",
       "      <td>Braund, Mr. Owen Harris</td>\n",
       "      <td>male</td>\n",
       "      <td>22.0</td>\n",
       "      <td>1</td>\n",
       "      <td>0</td>\n",
       "      <td>A/5 21171</td>\n",
       "      <td>7.2500</td>\n",
       "      <td>NaN</td>\n",
       "      <td>S</td>\n",
       "    </tr>\n",
       "    <tr>\n",
       "      <th>1</th>\n",
       "      <td>2</td>\n",
       "      <td>1</td>\n",
       "      <td>1</td>\n",
       "      <td>Cumings, Mrs. John Bradley (Florence Briggs Th...</td>\n",
       "      <td>female</td>\n",
       "      <td>38.0</td>\n",
       "      <td>1</td>\n",
       "      <td>0</td>\n",
       "      <td>PC 17599</td>\n",
       "      <td>71.2833</td>\n",
       "      <td>C85</td>\n",
       "      <td>C</td>\n",
       "    </tr>\n",
       "    <tr>\n",
       "      <th>2</th>\n",
       "      <td>3</td>\n",
       "      <td>1</td>\n",
       "      <td>3</td>\n",
       "      <td>Heikkinen, Miss. Laina</td>\n",
       "      <td>female</td>\n",
       "      <td>26.0</td>\n",
       "      <td>0</td>\n",
       "      <td>0</td>\n",
       "      <td>STON/O2. 3101282</td>\n",
       "      <td>7.9250</td>\n",
       "      <td>NaN</td>\n",
       "      <td>S</td>\n",
       "    </tr>\n",
       "    <tr>\n",
       "      <th>3</th>\n",
       "      <td>4</td>\n",
       "      <td>1</td>\n",
       "      <td>1</td>\n",
       "      <td>Futrelle, Mrs. Jacques Heath (Lily May Peel)</td>\n",
       "      <td>female</td>\n",
       "      <td>35.0</td>\n",
       "      <td>1</td>\n",
       "      <td>0</td>\n",
       "      <td>113803</td>\n",
       "      <td>53.1000</td>\n",
       "      <td>C123</td>\n",
       "      <td>S</td>\n",
       "    </tr>\n",
       "    <tr>\n",
       "      <th>4</th>\n",
       "      <td>5</td>\n",
       "      <td>0</td>\n",
       "      <td>3</td>\n",
       "      <td>Allen, Mr. William Henry</td>\n",
       "      <td>male</td>\n",
       "      <td>35.0</td>\n",
       "      <td>0</td>\n",
       "      <td>0</td>\n",
       "      <td>373450</td>\n",
       "      <td>8.0500</td>\n",
       "      <td>NaN</td>\n",
       "      <td>S</td>\n",
       "    </tr>\n",
       "  </tbody>\n",
       "</table>\n",
       "</div>"
      ],
      "text/plain": [
       "   PassengerId  Survived  Pclass  \\\n",
       "0            1         0       3   \n",
       "1            2         1       1   \n",
       "2            3         1       3   \n",
       "3            4         1       1   \n",
       "4            5         0       3   \n",
       "\n",
       "                                                Name     Sex   Age  SibSp  \\\n",
       "0                            Braund, Mr. Owen Harris    male  22.0      1   \n",
       "1  Cumings, Mrs. John Bradley (Florence Briggs Th...  female  38.0      1   \n",
       "2                             Heikkinen, Miss. Laina  female  26.0      0   \n",
       "3       Futrelle, Mrs. Jacques Heath (Lily May Peel)  female  35.0      1   \n",
       "4                           Allen, Mr. William Henry    male  35.0      0   \n",
       "\n",
       "   Parch            Ticket     Fare Cabin Embarked  \n",
       "0      0         A/5 21171   7.2500   NaN        S  \n",
       "1      0          PC 17599  71.2833   C85        C  \n",
       "2      0  STON/O2. 3101282   7.9250   NaN        S  \n",
       "3      0            113803  53.1000  C123        S  \n",
       "4      0            373450   8.0500   NaN        S  "
      ]
     },
     "execution_count": 2,
     "metadata": {},
     "output_type": "execute_result"
    }
   ],
   "source": [
    "# Reading in the datasets\n",
    "train_df = pd.read_csv(\"~/Desktop/my_projects//data/titanic_data/train.csv\")\n",
    "test_df = pd.read_csv(\"~/Desktop/my_projects//data/titanic_data/train.csv\")\n",
    "\n",
    "train_df.head()"
   ]
  },
  {
   "cell_type": "markdown",
   "id": "b035009e-3a9c-49c2-ac4f-b5591acb9da2",
   "metadata": {},
   "source": [
    "# Dealing With Missing Values"
   ]
  },
  {
   "cell_type": "code",
   "execution_count": 3,
   "id": "e861ae7a-f8b5-45a2-b0fe-17cbfbd07298",
   "metadata": {},
   "outputs": [],
   "source": [
    "# Creating a function that identifies and plots missing values\n",
    "def missingdata(data):\n",
    "    total = (\n",
    "        data.isnull().sum().sort_values(ascending=False)\n",
    "    )  # summing all the null values in the dataset and sorting them in descending order\n",
    "    percent = (data.isnull().sum() / data.isnull().count() * 100).sort_values(\n",
    "        ascending=False\n",
    "    )  # calculating the percentage of the missing values in each feature\n",
    "    ms = pd.concat(\n",
    "        [total, percent], axis=1, keys=[\"Total\", \"Percent\"]\n",
    "    )  # concatenating the total and the percentage missing values in a table\n",
    "    ms = ms[\n",
    "        ms[\"Percent\"] > 0\n",
    "    ]  # returning only those missing values which have a percentage greater than 0\n",
    "    # plotting the missing data\n",
    "    f, ax = plt.subplots(figsize=(8, 6))\n",
    "    plt.xticks(rotation=\"90\")  # setting the rotation of the x ticks to 90 degrees\n",
    "    fig = sns.barplot(\n",
    "        ms.index, ms[\"Percent\"], color=\"green\", alpha=0.8\n",
    "    )  # creating green barplots\n",
    "    plt.xlabel(\"Features\", fontsize=15)  # adding a label on the x axis\n",
    "    plt.ylabel(\"Percent of missing values\", fontsize=15)  # adding a label on the y axis\n",
    "    plt.title(\n",
    "        \"Percent missing data by feature\", fontsize=15\n",
    "    )  # adding a title to the graph\n",
    "    return ms"
   ]
  },
  {
   "cell_type": "code",
   "execution_count": 4,
   "id": "94b00e91-8658-49ac-aa16-f74875584dca",
   "metadata": {},
   "outputs": [
    {
     "data": {
      "text/html": [
       "<div>\n",
       "<style scoped>\n",
       "    .dataframe tbody tr th:only-of-type {\n",
       "        vertical-align: middle;\n",
       "    }\n",
       "\n",
       "    .dataframe tbody tr th {\n",
       "        vertical-align: top;\n",
       "    }\n",
       "\n",
       "    .dataframe thead th {\n",
       "        text-align: right;\n",
       "    }\n",
       "</style>\n",
       "<table border=\"1\" class=\"dataframe\">\n",
       "  <thead>\n",
       "    <tr style=\"text-align: right;\">\n",
       "      <th></th>\n",
       "      <th>Total</th>\n",
       "      <th>Percent</th>\n",
       "    </tr>\n",
       "  </thead>\n",
       "  <tbody>\n",
       "    <tr>\n",
       "      <th>Cabin</th>\n",
       "      <td>687</td>\n",
       "      <td>77.104377</td>\n",
       "    </tr>\n",
       "    <tr>\n",
       "      <th>Age</th>\n",
       "      <td>177</td>\n",
       "      <td>19.865320</td>\n",
       "    </tr>\n",
       "    <tr>\n",
       "      <th>Embarked</th>\n",
       "      <td>2</td>\n",
       "      <td>0.224467</td>\n",
       "    </tr>\n",
       "  </tbody>\n",
       "</table>\n",
       "</div>"
      ],
      "text/plain": [
       "          Total    Percent\n",
       "Cabin       687  77.104377\n",
       "Age         177  19.865320\n",
       "Embarked      2   0.224467"
      ]
     },
     "execution_count": 4,
     "metadata": {},
     "output_type": "execute_result"
    },
    {
     "data": {
      "image/png": "[encoded data removed]",
      "text/plain": [
       "<Figure size 576x432 with 1 Axes>"
      ]
     },
     "metadata": {
      "needs_background": "light"
     },
     "output_type": "display_data"
    }
   ],
   "source": [
    "# Identifying missing values in the training set\n",
    "missingdata(train_df)"
   ]
  },
  {
   "cell_type": "code",
   "execution_count": 5,
   "id": "02eaa940-ef6b-4e96-8c04-af33e51f1d88",
   "metadata": {},
   "outputs": [
    {
     "data": {
      "text/html": [
       "<div>\n",
       "<style scoped>\n",
       "    .dataframe tbody tr th:only-of-type {\n",
       "        vertical-align: middle;\n",
       "    }\n",
       "\n",
       "    .dataframe tbody tr th {\n",
       "        vertical-align: top;\n",
       "    }\n",
       "\n",
       "    .dataframe thead th {\n",
       "        text-align: right;\n",
       "    }\n",
       "</style>\n",
       "<table border=\"1\" class=\"dataframe\">\n",
       "  <thead>\n",
       "    <tr style=\"text-align: right;\">\n",
       "      <th></th>\n",
       "      <th>Total</th>\n",
       "      <th>Percent</th>\n",
       "    </tr>\n",
       "  </thead>\n",
       "  <tbody>\n",
       "    <tr>\n",
       "      <th>Cabin</th>\n",
       "      <td>687</td>\n",
       "      <td>77.104377</td>\n",
       "    </tr>\n",
       "    <tr>\n",
       "      <th>Age</th>\n",
       "      <td>177</td>\n",
       "      <td>19.865320</td>\n",
       "    </tr>\n",
       "    <tr>\n",
       "      <th>Embarked</th>\n",
       "      <td>2</td>\n",
       "      <td>0.224467</td>\n",
       "    </tr>\n",
       "  </tbody>\n",
       "</table>\n",
       "</div>"
      ],
      "text/plain": [
       "          Total    Percent\n",
       "Cabin       687  77.104377\n",
       "Age         177  19.865320\n",
       "Embarked      2   0.224467"
      ]
     },
     "execution_count": 5,
     "metadata": {},
     "output_type": "execute_result"
    },
    {
     "data": {
      "image/png": "[encoded data removed]",
      "text/plain": [
       "<Figure size 576x432 with 1 Axes>"
      ]
     },
     "metadata": {
      "needs_background": "light"
     },
     "output_type": "display_data"
    }
   ],
   "source": [
    "missingdata(test_df)"
   ]
  },
  {
   "cell_type": "markdown",
   "id": "d7e45abb-a4a5-490c-bd9d-496983b3db3d",
   "metadata": {
    "tags": []
   },
   "source": [
    "## Dealing With Missing Values in the Training Set"
   ]
  },
  {
   "cell_type": "code",
   "execution_count": 6,
   "id": "f1de7f51-de76-45f5-a60e-5270c1c0aee2",
   "metadata": {
    "tags": []
   },
   "outputs": [],
   "source": [
    "# Filling missing values in the training set\n",
    "train_df[\"Embarked\"].fillna(train_df[\"Embarked\"].mode()[0], inplace=True)\n",
    "train_df[\"Age\"].fillna(train_df[\"Age\"].median(), inplace=True)\n",
    "\n",
    "# Dropping columns with too many missing values or that are not necessary\n",
    "drop_column_training_set = [\"Cabin\", \"Ticket\"]\n",
    "train_df.drop(drop_column_training_set, axis=1, inplace=True)"
   ]
  },
  {
   "cell_type": "markdown",
   "id": "8ba43f13-6806-43c7-a509-9ffb283682dc",
   "metadata": {},
   "source": [
    "## Dealing With Missing Values in the Test Set"
   ]
  },
  {
   "cell_type": "code",
   "execution_count": 7,
   "id": "38734598-2460-400b-a6bf-6b6d857f670c",
   "metadata": {},
   "outputs": [],
   "source": [
    "# Using the training set medians to substitute test set NaNs in order to prevent any biases\n",
    "test_df[\"Age\"].fillna(train_df[\"Age\"].median(), inplace=True)\n",
    "test_df[\"Fare\"].fillna(train_df[\"Fare\"].median(), inplace=True)\n",
    "\n",
    "# Dropping unnecessary columns\n",
    "drop_column_test_set = [\"Cabin\", \"Ticket\"]\n",
    "test_df.drop(drop_column_test_set, axis=1, inplace=True)"
   ]
  },
  {
   "cell_type": "code",
   "execution_count": 8,
   "id": "3a98aa30-76ff-4927-8047-b3de826eb49f",
   "metadata": {},
   "outputs": [
    {
     "name": "stdout",
     "output_type": "stream",
     "text": [
      "check the nan value in train data\n",
      "PassengerId    0\n",
      "Survived       0\n",
      "Pclass         0\n",
      "Name           0\n",
      "Sex            0\n",
      "Age            0\n",
      "SibSp          0\n",
      "Parch          0\n",
      "Fare           0\n",
      "Embarked       0\n",
      "dtype: int64\n",
      "__________________________________________________________________________________________\n",
      "check the nan value in test data\n",
      "PassengerId    0\n",
      "Survived       0\n",
      "Pclass         0\n",
      "Name           0\n",
      "Sex            0\n",
      "Age            0\n",
      "SibSp          0\n",
      "Parch          0\n",
      "Fare           0\n",
      "Embarked       2\n",
      "dtype: int64\n"
     ]
    }
   ],
   "source": [
    "print(\"check the nan value in train data\")\n",
    "print(train_df.isnull().sum())\n",
    "print(\"___\" * 30)\n",
    "print(\"check the nan value in test data\")\n",
    "print(test_df.isnull().sum())"
   ]
  },
  {
   "cell_type": "markdown",
   "id": "1cd539e7-2346-4d71-b4f5-e1405ac95bd7",
   "metadata": {
    "tags": []
   },
   "source": [
    "# Feature Engineering"
   ]
  },
  {
   "cell_type": "code",
   "execution_count": 9,
   "id": "5830f121-d3bf-4fde-9e4f-6d8d1c48847c",
   "metadata": {},
   "outputs": [],
   "source": [
    "# Combining test and train as single to apply some function\n",
    "all_data = [train_df, test_df]"
   ]
  },
  {
   "cell_type": "markdown",
   "id": "eca4bffd-6a3b-482a-8781-cc154b58a5c5",
   "metadata": {},
   "source": [
    "## The FamilySize Feature "
   ]
  },
  {
   "cell_type": "code",
   "execution_count": 10,
   "id": "bd5e1847-aa16-42ba-8393-b03217df62fa",
   "metadata": {},
   "outputs": [],
   "source": [
    "# Creating a new feature called FamilySize as a combination of SibSp and Parch\n",
    "for dataset in all_data:\n",
    "    dataset[\"FamilySize\"] = dataset[\"SibSp\"] + dataset[\"Parch\"] + 1\n",
    "\n",
    "# Dropping SibSp and Parch\n",
    "drop_column = [\"SibSp\", \"Parch\"]\n",
    "\n",
    "for dataset in all_data:\n",
    "    dataset.drop(drop_column, axis=1, inplace=True)"
   ]
  },
  {
   "cell_type": "markdown",
   "id": "b0343cc1-999e-4e60-977d-7d2b3a2c23a6",
   "metadata": {},
   "source": [
    "## The Title Feature "
   ]
  },
  {
   "cell_type": "code",
   "execution_count": 11,
   "id": "be155923-f3ac-4d1a-b64b-3447d992879e",
   "metadata": {},
   "outputs": [],
   "source": [
    "# Creating a new Title feature extracting from existing ones\n",
    "for dataset in all_data:\n",
    "    dataset[\"Title\"] = dataset.Name.str.extract(\n",
    "        \" ([A-Za-z]+)\\.\", expand=False\n",
    "    )  # Extracting the titles from the name column and adding them to a new column called 'Title' - using a regex to extract any word with a dot after it\n",
    "    dataset[\"Title\"] = dataset[\"Title\"].replace(\n",
    "        [\n",
    "            \"Lady\",\n",
    "            \"Countess\",\n",
    "            \"Capt\",\n",
    "            \"Col\",\n",
    "            \"Don\",\n",
    "            \"Dr\",\n",
    "            \"Major\",\n",
    "            \"Rev\",\n",
    "            \"Sir\",\n",
    "            \"Jonkheer\",\n",
    "            \"Dona\",\n",
    "            \"Master\",\n",
    "        ],\n",
    "        \"Rare\",\n",
    "    )  # replacing rare titles with the word 'Rare'\n",
    "    dataset[\"Title\"] = dataset[\"Title\"].replace(\n",
    "        \"Mlle\", \"Miss\"\n",
    "    )  # replacing other titles with more common ones\n",
    "    dataset[\"Title\"] = dataset[\"Title\"].replace(\n",
    "        \"Ms\", \"Miss\"\n",
    "    )  # replacing other titles with more common ones\n",
    "    dataset[\"Title\"] = dataset[\"Title\"].replace(\n",
    "        \"Mme\", \"Mrs\"\n",
    "    )  # replacing other titles with more common ones\n",
    "\n",
    "# Dropping the Name column as we don't need it anymore\n",
    "drop_columns = [\"Name\"]\n",
    "for dataset in all_data:\n",
    "    dataset.drop(drop_columns, axis=1, inplace=True)"
   ]
  },
  {
   "cell_type": "code",
   "execution_count": 12,
   "id": "3539e62f-9edd-4ded-bb21-559d520e78fd",
   "metadata": {},
   "outputs": [
    {
     "data": {
      "text/html": [
       "<div>\n",
       "<style scoped>\n",
       "    .dataframe tbody tr th:only-of-type {\n",
       "        vertical-align: middle;\n",
       "    }\n",
       "\n",
       "    .dataframe tbody tr th {\n",
       "        vertical-align: top;\n",
       "    }\n",
       "\n",
       "    .dataframe thead th {\n",
       "        text-align: right;\n",
       "    }\n",
       "</style>\n",
       "<table border=\"1\" class=\"dataframe\">\n",
       "  <thead>\n",
       "    <tr style=\"text-align: right;\">\n",
       "      <th></th>\n",
       "      <th>PassengerId</th>\n",
       "      <th>Survived</th>\n",
       "      <th>Pclass</th>\n",
       "      <th>Sex</th>\n",
       "      <th>Age</th>\n",
       "      <th>Fare</th>\n",
       "      <th>Embarked</th>\n",
       "      <th>FamilySize</th>\n",
       "      <th>Title</th>\n",
       "    </tr>\n",
       "  </thead>\n",
       "  <tbody>\n",
       "    <tr>\n",
       "      <th>0</th>\n",
       "      <td>1</td>\n",
       "      <td>0</td>\n",
       "      <td>3</td>\n",
       "      <td>male</td>\n",
       "      <td>22.0</td>\n",
       "      <td>7.2500</td>\n",
       "      <td>S</td>\n",
       "      <td>2</td>\n",
       "      <td>1</td>\n",
       "    </tr>\n",
       "    <tr>\n",
       "      <th>1</th>\n",
       "      <td>2</td>\n",
       "      <td>1</td>\n",
       "      <td>1</td>\n",
       "      <td>female</td>\n",
       "      <td>38.0</td>\n",
       "      <td>71.2833</td>\n",
       "      <td>C</td>\n",
       "      <td>2</td>\n",
       "      <td>3</td>\n",
       "    </tr>\n",
       "    <tr>\n",
       "      <th>2</th>\n",
       "      <td>3</td>\n",
       "      <td>1</td>\n",
       "      <td>3</td>\n",
       "      <td>female</td>\n",
       "      <td>26.0</td>\n",
       "      <td>7.9250</td>\n",
       "      <td>S</td>\n",
       "      <td>1</td>\n",
       "      <td>2</td>\n",
       "    </tr>\n",
       "    <tr>\n",
       "      <th>3</th>\n",
       "      <td>4</td>\n",
       "      <td>1</td>\n",
       "      <td>1</td>\n",
       "      <td>female</td>\n",
       "      <td>35.0</td>\n",
       "      <td>53.1000</td>\n",
       "      <td>S</td>\n",
       "      <td>2</td>\n",
       "      <td>3</td>\n",
       "    </tr>\n",
       "    <tr>\n",
       "      <th>4</th>\n",
       "      <td>5</td>\n",
       "      <td>0</td>\n",
       "      <td>3</td>\n",
       "      <td>male</td>\n",
       "      <td>35.0</td>\n",
       "      <td>8.0500</td>\n",
       "      <td>S</td>\n",
       "      <td>1</td>\n",
       "      <td>1</td>\n",
       "    </tr>\n",
       "  </tbody>\n",
       "</table>\n",
       "</div>"
      ],
      "text/plain": [
       "   PassengerId  Survived  Pclass     Sex   Age     Fare Embarked  FamilySize  \\\n",
       "0            1         0       3    male  22.0   7.2500        S           2   \n",
       "1            2         1       1  female  38.0  71.2833        C           2   \n",
       "2            3         1       3  female  26.0   7.9250        S           1   \n",
       "3            4         1       1  female  35.0  53.1000        S           2   \n",
       "4            5         0       3    male  35.0   8.0500        S           1   \n",
       "\n",
       "   Title  \n",
       "0      1  \n",
       "1      3  \n",
       "2      2  \n",
       "3      3  \n",
       "4      1  "
      ]
     },
     "execution_count": 12,
     "metadata": {},
     "output_type": "execute_result"
    }
   ],
   "source": [
    "# Converting the categorical titles to ordinal\n",
    "title_mapping = {\n",
    "    \"Mr\": 1,\n",
    "    \"Miss\": 2,\n",
    "    \"Mrs\": 3,\n",
    "    \"Rare\": 4,\n",
    "}  # creating a dictionary of all the titles as key and their ordinal number as value\n",
    "\n",
    "for dataset in all_data:\n",
    "    dataset[\"Title\"] = dataset[\"Title\"].map(\n",
    "        title_mapping\n",
    "    )  # transforming each title into ordinal through the map function\n",
    "\n",
    "train_df.head()"
   ]
  },
  {
   "cell_type": "markdown",
   "id": "734c0ae6-64fb-4e76-abf5-4f156dcbdb0a",
   "metadata": {},
   "source": [
    "## The Sex Feature"
   ]
  },
  {
   "cell_type": "code",
   "execution_count": 13,
   "id": "cf9ba28b-318e-489f-b980-e54b2f5e00e6",
   "metadata": {},
   "outputs": [
    {
     "data": {
      "text/html": [
       "<div>\n",
       "<style scoped>\n",
       "    .dataframe tbody tr th:only-of-type {\n",
       "        vertical-align: middle;\n",
       "    }\n",
       "\n",
       "    .dataframe tbody tr th {\n",
       "        vertical-align: top;\n",
       "    }\n",
       "\n",
       "    .dataframe thead th {\n",
       "        text-align: right;\n",
       "    }\n",
       "</style>\n",
       "<table border=\"1\" class=\"dataframe\">\n",
       "  <thead>\n",
       "    <tr style=\"text-align: right;\">\n",
       "      <th></th>\n",
       "      <th>PassengerId</th>\n",
       "      <th>Survived</th>\n",
       "      <th>Pclass</th>\n",
       "      <th>Sex</th>\n",
       "      <th>Age</th>\n",
       "      <th>Fare</th>\n",
       "      <th>Embarked</th>\n",
       "      <th>FamilySize</th>\n",
       "      <th>Title</th>\n",
       "    </tr>\n",
       "  </thead>\n",
       "  <tbody>\n",
       "    <tr>\n",
       "      <th>0</th>\n",
       "      <td>1</td>\n",
       "      <td>0</td>\n",
       "      <td>3</td>\n",
       "      <td>0</td>\n",
       "      <td>22.0</td>\n",
       "      <td>7.2500</td>\n",
       "      <td>S</td>\n",
       "      <td>2</td>\n",
       "      <td>1</td>\n",
       "    </tr>\n",
       "    <tr>\n",
       "      <th>1</th>\n",
       "      <td>2</td>\n",
       "      <td>1</td>\n",
       "      <td>1</td>\n",
       "      <td>1</td>\n",
       "      <td>38.0</td>\n",
       "      <td>71.2833</td>\n",
       "      <td>C</td>\n",
       "      <td>2</td>\n",
       "      <td>3</td>\n",
       "    </tr>\n",
       "    <tr>\n",
       "      <th>2</th>\n",
       "      <td>3</td>\n",
       "      <td>1</td>\n",
       "      <td>3</td>\n",
       "      <td>1</td>\n",
       "      <td>26.0</td>\n",
       "      <td>7.9250</td>\n",
       "      <td>S</td>\n",
       "      <td>1</td>\n",
       "      <td>2</td>\n",
       "    </tr>\n",
       "    <tr>\n",
       "      <th>3</th>\n",
       "      <td>4</td>\n",
       "      <td>1</td>\n",
       "      <td>1</td>\n",
       "      <td>1</td>\n",
       "      <td>35.0</td>\n",
       "      <td>53.1000</td>\n",
       "      <td>S</td>\n",
       "      <td>2</td>\n",
       "      <td>3</td>\n",
       "    </tr>\n",
       "    <tr>\n",
       "      <th>4</th>\n",
       "      <td>5</td>\n",
       "      <td>0</td>\n",
       "      <td>3</td>\n",
       "      <td>0</td>\n",
       "      <td>35.0</td>\n",
       "      <td>8.0500</td>\n",
       "      <td>S</td>\n",
       "      <td>1</td>\n",
       "      <td>1</td>\n",
       "    </tr>\n",
       "  </tbody>\n",
       "</table>\n",
       "</div>"
      ],
      "text/plain": [
       "   PassengerId  Survived  Pclass  Sex   Age     Fare Embarked  FamilySize  \\\n",
       "0            1         0       3    0  22.0   7.2500        S           2   \n",
       "1            2         1       1    1  38.0  71.2833        C           2   \n",
       "2            3         1       3    1  26.0   7.9250        S           1   \n",
       "3            4         1       1    1  35.0  53.1000        S           2   \n",
       "4            5         0       3    0  35.0   8.0500        S           1   \n",
       "\n",
       "   Title  \n",
       "0      1  \n",
       "1      3  \n",
       "2      2  \n",
       "3      3  \n",
       "4      1  "
      ]
     },
     "execution_count": 13,
     "metadata": {},
     "output_type": "execute_result"
    }
   ],
   "source": [
    "# Converting the sex feature which contain strings to numerical values\n",
    "for dataset in all_data:\n",
    "    dataset[\"Sex\"] = (\n",
    "        dataset[\"Sex\"].map({\"female\": 1, \"male\": 0}).astype(int)\n",
    "    )  # changing the data type from string to integer\n",
    "\n",
    "train_df.head()"
   ]
  },
  {
   "cell_type": "markdown",
   "id": "d2b8d6f4-b744-4e5a-846a-a8b6bc389c7b",
   "metadata": {},
   "source": [
    "## The Age Feature"
   ]
  },
  {
   "cell_type": "code",
   "execution_count": null,
   "id": "193346f2-d827-4ba7-989a-da1f4e76dc5b",
   "metadata": {},
   "outputs": [],
   "source": [
    "# Creating bins for age features\n",
    "for dataset in all_data:\n",
    "    dataset[\"Age Bin\"] = pd.cut(dataset[\"Age\"], bins=[0, 16, 32, 48, 64])\n",
    "\n",
    "for dataset in all_data:\n",
    "    dataset.loc[dataset[\"Age\"] <= 16, \"Age\"] = 0\n",
    "    dataset.loc[(dataset[\"Age\"] > 16) & (dataset[\"Age\"] <= 32), \"Age\"] = 1\n",
    "    dataset.loc[(dataset[\"Age\"] > 32) & (dataset[\"Age\"] <= 48), \"Age\"] = 2\n",
    "    dataset.loc[(dataset[\"Age\"] > 48) & (dataset[\"Age\"] <= 64), \"Age\"] = 3\n",
    "    dataset.loc[dataset[\"Age\"] > 64, \"Age\"] = 4"
   ]
  },
  {
   "cell_type": "code",
   "execution_count": 17,
   "id": "42e65c1f-3891-4634-8855-6ee959c53fcf",
   "metadata": {},
   "outputs": [
    {
     "data": {
      "text/plain": [
       "dtype('float64')"
      ]
     },
     "execution_count": 17,
     "metadata": {},
     "output_type": "execute_result"
    }
   ],
   "source": [
    "train_df['Age'].dtype"
   ]
  },
  {
   "cell_type": "code",
   "execution_count": null,
   "id": "7f427374-0385-4bfd-bed2-a705e8420323",
   "metadata": {},
   "outputs": [],
   "source": [
    "# Dropping the Age Bin column as we don't need it anymore\n",
    "drop_columns = [\"Age Bin\"]\n",
    "for dataset in all_data:\n",
    "    dataset.drop(drop_columns, axis=1, inplace=True)\n",
    "\n",
    "train_df.head()"
   ]
  },
  {
   "cell_type": "markdown",
   "id": "5904d7eb-6dcc-4146-9b3f-96b761c43364",
   "metadata": {},
   "source": [
    "## The Fare Feature"
   ]
  },
  {
   "cell_type": "code",
   "execution_count": null,
   "id": "278bfe3b-3c8b-41da-a3ca-fe1549ccab3c",
   "metadata": {},
   "outputs": [],
   "source": [
    "for dataset in all_data:\n",
    "    dataset[\"Fare\"] = dataset[\"Fare\"].round(\n",
    "        1\n",
    "    )  # Rounding off the Fare feature to two decimal places\n",
    "    dataset[\"Fare Bin\"] = pd.cut(\n",
    "        dataset[\"Fare\"],\n",
    "        bins=[0, 7.91, 14.45, 31, 120],\n",
    "        labels=[\"Low Fare\", \"Median Fare\", \"Average Fare\", \"High Fare\"],\n",
    "    )  # Creating bins for fare features\n",
    "# Converting the Fare feature into ordinal values depending on its bins\n",
    "for dataset in all_data:\n",
    "    dataset.loc[dataset[\"Fare\"] <= 7.91, \"Fare\"] = 0\n",
    "    dataset.loc[(dataset[\"Fare\"] > 7.91) & (dataset[\"Fare\"] <= 14.454), \"Fare\"] = 1\n",
    "    dataset.loc[(dataset[\"Fare\"] > 14.454) & (dataset[\"Fare\"] <= 31), \"Fare\"] = 2\n",
    "    dataset.loc[dataset[\"Fare\"] > 31, \"Fare\"] = 3\n",
    "    dataset[\"Fare\"] = dataset[\"Fare\"].astype(int)\n",
    "\n",
    "# Dropping the Fare Bin column as we don't need it anymore\n",
    "drop_columns = [\"Fare Bin\"]\n",
    "for dataset in all_data:\n",
    "    dataset.drop(drop_columns, axis=1, inplace=True)\n",
    "    \n",
    "train_df.head()"
   ]
  },
  {
   "cell_type": "markdown",
   "id": "485d4139-310f-4a64-94aa-806f8eeccbfd",
   "metadata": {},
   "source": [
    "## The Embarked Feature "
   ]
  },
  {
   "cell_type": "code",
   "execution_count": null,
   "id": "9c6ca093-b83a-4ae2-83ef-feb663711b39",
   "metadata": {},
   "outputs": [],
   "source": [
    "# Converting the categorical feature of Embarked to numeric\n",
    "for dataset in all_data:\n",
    "    dataset[\"Embarked\"] = dataset[\"Embarked\"].map({\"S\": 0, \"C\": 1, \"Q\": 2}).astype(int)\n",
    "\n",
    "train_df.head()"
   ]
  },
  {
   "cell_type": "code",
   "execution_count": null,
   "id": "a352240d-d078-46da-95e0-41fd930a4a55",
   "metadata": {},
   "outputs": [],
   "source": [
    "# Making a copy of both datasets and starting to work for the copy of the datasets\n",
    "copy_train_df = train_df\n",
    "copy_test_df = test_df"
   ]
  },
  {
   "cell_type": "code",
   "execution_count": null,
   "id": "e7c61c86-5025-4abf-aec9-40d4f4384e57",
   "metadata": {},
   "outputs": [],
   "source": [
    "combined = [copy_train_df, copy_test_df]"
   ]
  },
  {
   "cell_type": "code",
   "execution_count": null,
   "id": "1ec3f062-001e-411e-a953-95f446e01f7d",
   "metadata": {},
   "outputs": [],
   "source": [
    "train_df.columns.tolist()"
   ]
  },
  {
   "cell_type": "markdown",
   "id": "9d727e33-9c7a-4043-9b4d-f58b890f881f",
   "metadata": {
    "tags": []
   },
   "source": [
    "# Training Our Machine Learning Model "
   ]
  },
  {
   "cell_type": "markdown",
   "id": "94427835-2a78-49c4-ab9c-4efb5e86239f",
   "metadata": {},
   "source": [
    "## Applying Feature Selection Using Sequential Feature Selector"
   ]
  },
  {
   "cell_type": "code",
   "execution_count": null,
   "id": "d27beee8-5ec7-404e-97b6-4f041204420e",
   "metadata": {},
   "outputs": [],
   "source": [
    "# Splitting training set into 75% training and 25% validation to check the model performance before submitting final results\n",
    "from sklearn.model_selection import train_test_split\n",
    "\n",
    "X_train = train_df.drop(\"Survived\", axis=1)  # assigning the training data to a variable named X_train and dropping the Survived column (the value that we want to predict)\n",
    "Y_train = train_df[\"Survived\"]  # assigning the value that we want to predict to Y_train\n",
    "\n",
    "X_train, X_val, Y_train, Y_val = train_test_split(\n",
    "    X_train, Y_train, test_size=0.25, random_state=1\n",
    ")  # taking in X_train and Y_train and splitting them with a ratio of 75% and 25% and outputs a new X_train, a new X_val, a new Y_train, and a new Y_val"
   ]
  },
  {
   "cell_type": "code",
   "execution_count": null,
   "id": "97a96749-c089-4560-b283-6d162185135e",
   "metadata": {},
   "outputs": [],
   "source": [
    "x_features = ['Pclass'] # Select an initial feature "
   ]
  },
  {
   "cell_type": "code",
   "execution_count": null,
   "id": "5b0e9f63-0820-4918-9c39-a76856a9e69f",
   "metadata": {},
   "outputs": [],
   "source": [
    "from sklearn.ensemble import RandomForestClassifier"
   ]
  },
  {
   "cell_type": "code",
   "execution_count": null,
   "id": "c9a4322d-958f-483c-a7aa-a48880c8b8ed",
   "metadata": {},
   "outputs": [],
   "source": [
    "model = RandomForestClassifier()"
   ]
  },
  {
   "cell_type": "code",
   "execution_count": null,
   "id": "9b029201-4b14-4bdb-8665-d44e24832479",
   "metadata": {},
   "outputs": [],
   "source": [
    "# model is f, where x is info we already know (the features) and the output f(x) (e.g., x**2) is the prediction. \n",
    "# to train the model (i.e. figure out what the function f is) we need the training x and y.\n",
    "# what we want to minimise is the error between [y_train (i.e., the true value) and f(x_train)]. which are both true and happened in the past.\n",
    "model.fit(X_train[x_features], Y_train) "
   ]
  },
  {
   "cell_type": "code",
   "execution_count": null,
   "id": "847f4e1a-a921-444e-a384-ddb7b4186932",
   "metadata": {},
   "outputs": [],
   "source": [
    "y_val_preds = model.predict(X_val[x_features]) # we compute the model output of the validation set (i.e., Y_val_PRED) using the X_val features "
   ]
  },
  {
   "cell_type": "code",
   "execution_count": null,
   "id": "faf57206-1fff-4e33-8a7d-b7334bad918d",
   "metadata": {},
   "outputs": [],
   "source": [
    "from sklearn.metrics import accuracy_score"
   ]
  },
  {
   "cell_type": "code",
   "execution_count": null,
   "id": "6ba3c3e6-921f-4537-bf7d-01cb2ec31288",
   "metadata": {},
   "outputs": [],
   "source": [
    "accuracy_score(Y_val, y_val_preds) # compare the predicted value of Y_val_PRED with the actual Y_Val (the true value)"
   ]
  },
  {
   "cell_type": "code",
   "execution_count": null,
   "id": "e495f7ae-ba47-4de6-9531-67db7dbecb86",
   "metadata": {},
   "outputs": [],
   "source": [
    "# for each set there is always the y that is true and the y that is predicted"
   ]
  },
  {
   "cell_type": "code",
   "execution_count": null,
   "id": "826874c5-23be-415f-970b-ca95d9a9ad16",
   "metadata": {},
   "outputs": [],
   "source": [
    "all_features = [ \n",
    "    'Pclass',\n",
    "    'Sex',\n",
    "    'Age',\n",
    "    'Fare',\n",
    "    'Embarked',\n",
    "    'FamilySize',\n",
    "    'Title'\n",
    "]"
   ]
  },
  {
   "cell_type": "code",
   "execution_count": null,
   "id": "e28a7839-1a67-4ad4-be03-c72a2038027c",
   "metadata": {},
   "outputs": [],
   "source": [
    "features_to_use = [] # creating an empty list to store the feature to use to train the model \n",
    "\n",
    "while len(all_features) > 0: # as long as there is at least one value in all the features' list, ...  \n",
    "    \n",
    "    feature_performance = {} # creating an empty dictionary to store the feature as key and its performance as value \n",
    "    \n",
    "    for feature in all_features: # looping over all the features in the feature list \n",
    "        model = RandomForestClassifier() # training the model \n",
    "        model.fit(X_train[features_to_use + [feature]], Y_train) # fitting the model with the feature_to_use and the feature we are iterating through in X_train, giving it Y_train\n",
    "        y_val_preds = model.predict(X_val[features_to_use + [feature]]) # predicting the y_val_pred by using the feature_to_use and the feature of the X_Val\n",
    "        feature_performance[feature] = accuracy_score(Y_val, y_val_preds) # computing the accuracy score of the true value Y_val and its prediction y_val_pred and assigning it to the dictionary where the feature is the key \n",
    "    \n",
    "    feature_max = max(feature_performance, key=feature_performance.get) # extracting the feature which scored highest in performance \n",
    "    features_to_use.append(feature_max) # appending the feature which scored the highest to the feature_to_use list \n",
    "    all_features.remove(feature_max) # removing the previous maximum feature that we used \n",
    "    print(features_to_use, max(feature_performance.values()))\n",
    "    \n",
    "    "
   ]
  },
  {
   "cell_type": "code",
   "execution_count": null,
   "id": "d9c0d56f-605c-4e9b-a9c4-4b4d245cb874",
   "metadata": {},
   "outputs": [],
   "source": [
    "best_features = ['Sex', 'Fare', 'Pclass', 'FamilySize']"
   ]
  },
  {
   "cell_type": "code",
   "execution_count": null,
   "id": "aae91ba4-7b6d-481a-8412-fc390b8bd985",
   "metadata": {},
   "outputs": [],
   "source": [
    "best_model = RandomForestClassifier()\n",
    "\n",
    "best_model.fit(copy_train_df[best_features], copy_train_df[\"Survived\"])"
   ]
  },
  {
   "cell_type": "code",
   "execution_count": null,
   "id": "a85a6171-d84b-48ad-9411-7d0d45136987",
   "metadata": {},
   "outputs": [],
   "source": [
    "y_test_preds = best_model.predict(copy_test_df[best_features])"
   ]
  },
  {
   "cell_type": "code",
   "execution_count": null,
   "id": "8eceef48-8a84-47db-bc1e-b77631ef2684",
   "metadata": {},
   "outputs": [],
   "source": [
    "output = pd.DataFrame({\"PassengerId\": copy_test_df.PassengerId, \"Survived\": y_test_preds})\n",
    "output.to_csv(\"submission.csv\", index=False)"
   ]
  }
 ],
 "metadata": {
  "kernelspec": {
   "display_name": "Python 3 (ipykernel)",
   "language": "python",
   "name": "python3"
  },
  "language_info": {
   "codemirror_mode": {
    "name": "ipython",
    "version": 3
   },
   "file_extension": ".py",
   "mimetype": "text/x-python",
   "name": "python",
   "nbconvert_exporter": "python",
   "pygments_lexer": "ipython3",
   "version": "3.9.12"
  }
 },
 "nbformat": 4,
 "nbformat_minor": 5
}
